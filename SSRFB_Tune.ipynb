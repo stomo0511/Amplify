{
 "cells": [
  {
   "cell_type": "code",
   "execution_count": 1,
   "id": "01659aab-f243-4986-8685-59f2099f3fcf",
   "metadata": {},
   "outputs": [],
   "source": [
    "# ライブラリ読み込み\n",
    "from amplify import (\n",
    "    BinaryPoly,\n",
    "    sum_poly,\n",
    "    gen_symbols,\n",
    "    Solver,\n",
    "    decode_solution,\n",
    ")\n",
    "from amplify.constraint import (\n",
    "    equal_to,\n",
    ")\n",
    "from amplify.client import FixstarsClient\n",
    "\n",
    "import pandas as pd\n",
    "import numpy as np"
   ]
  },
  {
   "cell_type": "code",
   "execution_count": 2,
   "id": "73442b4c-42d5-43e9-885d-e620f1184835",
   "metadata": {},
   "outputs": [],
   "source": [
    "# データファイルの読み込み\n",
    "# (nb, ib, time)\n",
    "data = pd.read_csv(\"Calc_MaxIB.csv\", skipinitialspace=True)\n",
    "\n",
    "nb = data.nb.values           # タイルサイズ\n",
    "ib = data.ib.values           # 内部ブロック幅\n",
    "gflops = data.gflops.values   # 正規化速度"
   ]
  },
  {
   "cell_type": "code",
   "execution_count": 3,
   "id": "68264a02-8a08-4e0e-a55d-01b40a583b9b",
   "metadata": {},
   "outputs": [],
   "source": [
    "# 定数設定\n",
    "ndat = len(nb)     # データ数\n",
    "ncan = 8           # パラメータペア数\n",
    "\n",
    "nb_min = min(nb)\n",
    "nb_max = max(nb)\n",
    "step = (nb_max - nb_min) / ncan\n",
    "\n",
    "# 等間隔点\n",
    "equivp = [nb_min + step*(i+1) for i in range(ncan)]\n",
    "\n",
    "# 等間隔点と nb の距離\n",
    "dist = [[ np.sqrt((equivp[i] - nb[j])**2) for j in range(ndat)] for i in range(ncan) ]"
   ]
  },
  {
   "cell_type": "code",
   "execution_count": 4,
   "id": "4df8ce2f-ce85-4a2d-918f-8b2126a1a170",
   "metadata": {},
   "outputs": [],
   "source": [
    "# クライアント設定\n",
    "client = FixstarsClient()\n",
    "client.token = \"i5G6Ei3DKlGv2n6hsWBSBzWrmffLN4vn\"  #20210911まで有効\n",
    "client.parameters.timeout = 10000  # タイムアウト10秒\n",
    "client.parameters.outputs.duplicate = True  # 同じエネルギー値の解を列挙するオプション\n",
    "client.parameters.outputs.num_outputs = 0   # 見つかったすべての解を出力"
   ]
  },
  {
   "cell_type": "code",
   "execution_count": 5,
   "id": "e748e075-d51d-4bce-9f62-424e735fa77c",
   "metadata": {},
   "outputs": [],
   "source": [
    "# バイナリ変数の生成\n",
    "q = gen_symbols(BinaryPoly, ndat)"
   ]
  },
  {
   "cell_type": "code",
   "execution_count": 6,
   "id": "891fa7fe-6554-498e-ab08-d11fb3581503",
   "metadata": {},
   "outputs": [],
   "source": [
    "# コスト関数1：gflops 値の総和\n",
    "total_g = sum_poly( q*gflops*(-1) )"
   ]
  },
  {
   "cell_type": "code",
   "execution_count": 16,
   "id": "6cc9879a-dfff-40c1-89b0-b547f1fcde7d",
   "metadata": {},
   "outputs": [],
   "source": [
    "# コスト関数2：nb等間隔点からの距離\n",
    "equiv_d = sum_poly(\n",
    "    ncan,\n",
    "    lambda i: sum_poly(\n",
    "        ndat,\n",
    "        lambda j: dist[i][j] * q[j]\n",
    "    )\n",
    ")\n",
    "# equiv_d = sum_poly( [dist[0][j] * q[j] for j in range(ndat)] ) + sum_poly( [dist[1][j] * q[j] for j in range(ndat)] ) + sum_poly( [dist[2][j] * q[j] for j in range(ndat)] )"
   ]
  },
  {
   "cell_type": "code",
   "execution_count": 8,
   "id": "d502a7e5-c066-45a3-a68d-ad83cba3f680",
   "metadata": {},
   "outputs": [],
   "source": [
    "# 制約関数： \"1\"の変数の数 = ncan\n",
    "const = equal_to( sum_poly(q), ncan )"
   ]
  },
  {
   "cell_type": "code",
   "execution_count": 30,
   "id": "0688ebb5-466c-489f-bedc-f3ca12474cc6",
   "metadata": {},
   "outputs": [],
   "source": [
    "# モデル\n",
    "# model = 10*total_g + equiv_d + 50*const\n",
    "# model = 10*total_g + 50*const\n",
    "model = equiv_d + 2000*const"
   ]
  },
  {
   "cell_type": "code",
   "execution_count": 31,
   "id": "cb6d5be6-45ad-4b75-96b1-61792b0b6984",
   "metadata": {},
   "outputs": [],
   "source": [
    "# ソルバの生成、起動\n",
    "solver = Solver(client)\n",
    "result = solver.solve(model)\n",
    "\n",
    "# 解が見つからないときのエラー出力\n",
    "if len(result) == 0:\n",
    "    raise RuntimeError(\"Any one of constraints is not satisfied.\")\n",
    "\n",
    "energy = result[0].energy\n",
    "values = result[0].values\n",
    "q_values = decode_solution(q, values)"
   ]
  },
  {
   "cell_type": "code",
   "execution_count": 32,
   "id": "7ce681f2-a22a-437e-a49d-aae5ecceff87",
   "metadata": {},
   "outputs": [
    {
     "name": "stdout",
     "output_type": "stream",
     "text": [
      "energy = 7680.0\n"
     ]
    }
   ],
   "source": [
    "# 結果の表示\n",
    "print(f\"energy = {energy}\")"
   ]
  },
  {
   "cell_type": "code",
   "execution_count": 33,
   "id": "93b55830-775b-40c0-8188-d602ed0be845",
   "metadata": {},
   "outputs": [
    {
     "name": "stdout",
     "output_type": "stream",
     "text": [
      "274 , 276 , 280 , 298 , 300 , 304 , 320 , 332 , "
     ]
    }
   ],
   "source": [
    "for i in range(ndat):\n",
    "    if (q_values[i] == 1):\n",
    "        print(nb[i], \", \", end=\"\")"
   ]
  },
  {
   "cell_type": "code",
   "execution_count": 34,
   "id": "071b9ae6-f83a-4c96-8afc-5e53477e28a4",
   "metadata": {},
   "outputs": [
    {
     "name": "stdout",
     "output_type": "stream",
     "text": [
      "6.037 , 6.3831 , 6.6053 , 6.1859 , 6.3453 , 6.3603 , 6.6528 , 6.3853 , "
     ]
    }
   ],
   "source": [
    "for i in range(ndat):\n",
    "    if (q_values[i] == 1):\n",
    "        print(\"{:.5g}\".format(gflops[i]), \", \", end=\"\")"
   ]
  },
  {
   "cell_type": "code",
   "execution_count": 29,
   "id": "771f6eb2-03be-4602-86c1-e6bf370bb14c",
   "metadata": {},
   "outputs": [
    {
     "data": {
      "text/plain": [
       "2160.000000 q_0 + 2144.000000 q_1 + 2128.000000 q_2 + 2112.000000 q_3 + 2096.000000 q_4 + 2080.000000 q_5 + 2064.000000 q_6 + 2048.000000 q_7 + 2032.000000 q_8 + 2016.000000 q_9 + 2000.000000 q_10 + 1984.000000 q_11 + 1968.000000 q_12 + 1952.000000 q_13 + 1936.000000 q_14 + 1920.000000 q_15 + 1904.000000 q_16 + 1888.000000 q_17 + 1872.000000 q_18 + 1856.000000 q_19 + 1840.000000 q_20 + 1824.000000 q_21 + 1808.000000 q_22 + 1792.000000 q_23 + 1776.000000 q_24 + 1760.000000 q_25 + 1744.000000 q_26 + 1728.000000 q_27 + 1712.000000 q_28 + 1696.000000 q_29 + 1680.000000 q_30 + 1668.000000 q_31 + 1656.000000 q_32 + 1644.000000 q_33 + 1632.000000 q_34 + 1620.000000 q_35 + 1608.000000 q_36 + 1596.000000 q_37 + 1584.000000 q_38 + 1572.000000 q_39 + 1560.000000 q_40 + 1548.000000 q_41 + 1536.000000 q_42 + 1524.000000 q_43 + 1512.000000 q_44 + 1500.000000 q_45 + 1488.000000 q_46 + 1476.000000 q_47 + 1464.000000 q_48 + 1452.000000 q_49 + 1440.000000 q_50 + 1428.000000 q_51 + 1416.000000 q_52 + 1404.000000 q_53 + 1392.000000 q_54 + 1380.000000 q_55 + 1368.000000 q_56 + 1356.000000 q_57 + 1344.000000 q_58 + 1332.000000 q_59 + 1320.000000 q_60 + 1312.000000 q_61 + 1304.000000 q_62 + 1296.000000 q_63 + 1288.000000 q_64 + 1280.000000 q_65 + 1272.000000 q_66 + 1264.000000 q_67 + 1256.000000 q_68 + 1248.000000 q_69 + 1240.000000 q_70 + 1232.000000 q_71 + 1224.000000 q_72 + 1216.000000 q_73 + 1208.000000 q_74 + 1200.000000 q_75 + 1192.000000 q_76 + 1184.000000 q_77 + 1176.000000 q_78 + 1168.000000 q_79 + 1160.000000 q_80 + 1152.000000 q_81 + 1144.000000 q_82 + 1136.000000 q_83 + 1128.000000 q_84 + 1120.000000 q_85 + 1112.000000 q_86 + 1104.000000 q_87 + 1096.000000 q_88 + 1088.000000 q_89 + 1080.000000 q_90 + 1076.000000 q_91 + 1072.000000 q_92 + 1068.000000 q_93 + 1064.000000 q_94 + 1060.000000 q_95 + 1056.000000 q_96 + 1052.000000 q_97 + 1048.000000 q_98 + 1044.000000 q_99 + 1040.000000 q_100 + 1036.000000 q_101 + 1032.000000 q_102 + 1028.000000 q_103 + 1024.000000 q_104 + 1020.000000 q_105 + 1016.000000 q_106 + 1012.000000 q_107 + 1008.000000 q_108 + 1004.000000 q_109 + 1000.000000 q_110 + 996.000000 q_111 + 992.000000 q_112 + 988.000000 q_113 + 984.000000 q_114 + 980.000000 q_115 + 976.000000 q_116 + 972.000000 q_117 + 968.000000 q_118 + 964.000000 q_119 + 960.000000 q_120 + 960.000000 q_121 + 960.000000 q_122 + 960.000000 q_123 + 960.000000 q_124 + 960.000000 q_125 + 960.000000 q_126 + 960.000000 q_127 + 960.000000 q_128 + 960.000000 q_129 + 960.000000 q_130 + 960.000000 q_131 + 960.000000 q_132 + 960.000000 q_133 + 960.000000 q_134 + 960.000000 q_135 + 960.000000 q_136 + 960.000000 q_137 + 960.000000 q_138 + 960.000000 q_139 + 960.000000 q_140 + 960.000000 q_141 + 960.000000 q_142 + 960.000000 q_143 + 960.000000 q_144 + 960.000000 q_145 + 960.000000 q_146 + 960.000000 q_147 + 960.000000 q_148 + 960.000000 q_149 + 960.000000 q_150 + 964.000000 q_151 + 968.000000 q_152 + 972.000000 q_153 + 976.000000 q_154 + 980.000000 q_155 + 984.000000 q_156 + 988.000000 q_157 + 992.000000 q_158 + 996.000000 q_159 + 1000.000000 q_160 + 1004.000000 q_161 + 1008.000000 q_162 + 1012.000000 q_163 + 1016.000000 q_164 + 1020.000000 q_165 + 1024.000000 q_166 + 1028.000000 q_167 + 1032.000000 q_168 + 1036.000000 q_169 + 1040.000000 q_170 + 1044.000000 q_171 + 1048.000000 q_172 + 1052.000000 q_173 + 1056.000000 q_174 + 1060.000000 q_175 + 1064.000000 q_176 + 1068.000000 q_177 + 1072.000000 q_178 + 1076.000000 q_179 + 1080.000000 q_180 + 1088.000000 q_181 + 1096.000000 q_182 + 1104.000000 q_183 + 1112.000000 q_184 + 1120.000000 q_185 + 1128.000000 q_186 + 1136.000000 q_187 + 1144.000000 q_188 + 1152.000000 q_189 + 1160.000000 q_190 + 1168.000000 q_191 + 1176.000000 q_192 + 1184.000000 q_193 + 1192.000000 q_194 + 1200.000000 q_195 + 1208.000000 q_196 + 1216.000000 q_197 + 1224.000000 q_198 + 1232.000000 q_199 + 1240.000000 q_200 + 1248.000000 q_201 + 1256.000000 q_202 + 1264.000000 q_203 + 1272.000000 q_204 + 1280.000000 q_205 + 1288.000000 q_206 + 1296.000000 q_207 + 1304.000000 q_208 + 1312.000000 q_209 + 1320.000000 q_210 + 1332.000000 q_211 + 1344.000000 q_212 + 1356.000000 q_213 + 1368.000000 q_214 + 1380.000000 q_215 + 1392.000000 q_216 + 1404.000000 q_217 + 1416.000000 q_218 + 1428.000000 q_219 + 1440.000000 q_220 + 1452.000000 q_221 + 1464.000000 q_222 + 1476.000000 q_223 + 1488.000000 q_224 + 1500.000000 q_225 + 1512.000000 q_226 + 1524.000000 q_227 + 1536.000000 q_228 + 1548.000000 q_229 + 1560.000000 q_230 + 1572.000000 q_231 + 1584.000000 q_232 + 1596.000000 q_233 + 1608.000000 q_234 + 1620.000000 q_235 + 1632.000000 q_236 + 1644.000000 q_237 + 1656.000000 q_238 + 1668.000000 q_239 + 1680.000000 q_240"
      ]
     },
     "execution_count": 29,
     "metadata": {},
     "output_type": "execute_result"
    }
   ],
   "source": [
    "equiv_d"
   ]
  },
  {
   "cell_type": "code",
   "execution_count": null,
   "id": "cb87a887-4816-41d7-8a42-4920bbb3f60e",
   "metadata": {},
   "outputs": [],
   "source": []
  }
 ],
 "metadata": {
  "kernelspec": {
   "display_name": "Python 3",
   "language": "python",
   "name": "python3"
  },
  "language_info": {
   "codemirror_mode": {
    "name": "ipython",
    "version": 3
   },
   "file_extension": ".py",
   "mimetype": "text/x-python",
   "name": "python",
   "nbconvert_exporter": "python",
   "pygments_lexer": "ipython3",
   "version": "3.9.5"
  }
 },
 "nbformat": 4,
 "nbformat_minor": 5
}
