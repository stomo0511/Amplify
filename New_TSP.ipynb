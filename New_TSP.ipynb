{
 "cells": [
  {
   "cell_type": "markdown",
   "metadata": {},
   "source": [
    "# TSP\n",
    "### 都市の位置を乱数で生成"
   ]
  },
  {
   "cell_type": "code",
   "execution_count": null,
   "metadata": {},
   "outputs": [],
   "source": [
    "import numpy as np\n",
    "import matplotlib.pyplot as plt\n",
    "\n",
    "def gen_random_tsp(ncity: int):\n",
    "    # 座標\n",
    "    locations = np.random.uniform(size=(ncity, 2))\n",
    "\n",
    "    # 距離行列\n",
    "    all_diffs = np.expand_dims(locations, axis=1) - np.expand_dims(locations, axis=0)\n",
    "    distances = np.sqrt(np.sum(all_diffs ** 2, axis=-1))\n",
    "\n",
    "    return locations, distances\n",
    "\n",
    "def show_plot(locs: np.ndarray):\n",
    "    plt.figure(figsize=(7, 7))\n",
    "    plt.xlabel(\"x\")\n",
    "    plt.ylabel(\"y\")\n",
    "    plt.scatter(*zip(*locs))\n",
    "    plt.show()"
   ]
  },
  {
   "cell_type": "markdown",
   "metadata": {},
   "source": [
    "### 都市位置の生成\n",
    "<span style=\"color: red; \">問題サイズはここで決める</span>"
   ]
  },
  {
   "cell_type": "code",
   "execution_count": null,
   "metadata": {},
   "outputs": [],
   "source": [
    "# 都市数\n",
    "ncity = 30\n",
    "locations, distances = gen_random_tsp(ncity)"
   ]
  },
  {
   "cell_type": "markdown",
   "metadata": {},
   "source": [
    "### 都市位置のプロット"
   ]
  },
  {
   "cell_type": "code",
   "execution_count": null,
   "metadata": {},
   "outputs": [],
   "source": [
    "show_plot(locations)"
   ]
  },
  {
   "cell_type": "markdown",
   "metadata": {},
   "source": [
    "# <span style=\"color: blue; \">QUBO定式化</span>\n",
    "## 決定変数生成\n",
    "２値変数 $q_{n,i}$ : $n$ 順番のインデックス、$i$ 都市のインデックス"
   ]
  },
  {
   "cell_type": "code",
   "execution_count": null,
   "metadata": {},
   "outputs": [],
   "source": [
    "from amplify import BinarySymbolGenerator\n",
    "\n",
    "gen = BinarySymbolGenerator()\n",
    "# ２値変数 q_{i,j} : 都市 i から都市 j への経路を選択するとき 1\n",
    "q = gen.array(ncity, ncity)"
   ]
  },
  {
   "cell_type": "markdown",
   "metadata": {},
   "source": [
    "### <span style=\"color: red; \">回転対称性の除去</span>\n",
    "0番目の都市から開始する"
   ]
  },
  {
   "cell_type": "code",
   "execution_count": null,
   "metadata": {},
   "outputs": [],
   "source": [
    "q[0,0] = 1\n",
    "for i in range(1,ncity):\n",
    "    q[0,i] = 0\n",
    "    q[i,0] = 0"
   ]
  },
  {
   "cell_type": "code",
   "execution_count": null,
   "metadata": {},
   "outputs": [],
   "source": [
    "q"
   ]
  },
  {
   "cell_type": "markdown",
   "metadata": {},
   "source": [
    "### コスト関数\n",
    "都市 $i$ と都市 $j$ の距離を $d_{ij}$、都市数を $N$ として、\n",
    "$$\n",
    " \\sum_{n=0}^{N-1} \\sum_{i=0}^{N-1} \\sum_{j=0}^{N-1} d_{ij} q_{n,i} q_{n+1,j}\n",
    "$$"
   ]
  },
  {
   "cell_type": "code",
   "execution_count": null,
   "metadata": {},
   "outputs": [],
   "source": [
    "from amplify import sum_poly\n",
    "\n",
    "cost = sum_poly(\n",
    "    ncity,\n",
    "    lambda n: sum_poly(\n",
    "        ncity,\n",
    "        lambda i: sum_poly(\n",
    "            ncity, lambda j: distances[i, j] * q[n, i] * q[(n + 1) % ncity, j]\n",
    "        ),\n",
    "    ),\n",
    ")"
   ]
  },
  {
   "cell_type": "markdown",
   "metadata": {},
   "source": [
    "### 行の one-hot"
   ]
  },
  {
   "cell_type": "code",
   "execution_count": null,
   "metadata": {},
   "outputs": [],
   "source": [
    "from amplify.constraint import one_hot\n",
    "\n",
    "# 行に対する制約\n",
    "row_constraints = [one_hot(q[n]) for n in range(ncity)]"
   ]
  },
  {
   "cell_type": "markdown",
   "metadata": {},
   "source": [
    "### 列の one-hot"
   ]
  },
  {
   "cell_type": "code",
   "execution_count": null,
   "metadata": {},
   "outputs": [],
   "source": [
    "# 列に対する制約\n",
    "col_constraints = [one_hot(q[:, i]) for i in range(ncity)]"
   ]
  },
  {
   "cell_type": "markdown",
   "metadata": {},
   "source": [
    "### <span style=\"color: red; \">反転対称性の除去</span>\n",
    "[ 0 7 1 5 6 3 4 2] と [0 2 4 3 6 5 1 7 ] は反転しているが同一の解。\n",
    "これを除去する制約を追加する。\n",
    "\n",
    "$ q_{N-1, i} q_{1,j} = 0 \\qquad (i<j)$"
   ]
  },
  {
   "cell_type": "code",
   "execution_count": null,
   "metadata": {},
   "outputs": [],
   "source": [
    "from amplify.constraint import penalty\n",
    "\n",
    "# 順序に対する制約\n",
    "pem_constraint = [\n",
    "    penalty(q[ncity - 1, i] * q[1, j])\n",
    "    for i in range(ncity)\n",
    "    for j in range(i + 1, ncity)\n",
    "]\n",
    "\n",
    "# 下の制約式変更すること"
   ]
  },
  {
   "cell_type": "markdown",
   "metadata": {},
   "source": [
    "### 制約"
   ]
  },
  {
   "cell_type": "code",
   "execution_count": null,
   "metadata": {},
   "outputs": [],
   "source": [
    "from amplify import sum_poly\n",
    "\n",
    "constraints = sum(row_constraints) + sum(col_constraints)\n",
    "# constraints = sum(row_constraints) + sum(col_constraints) + sum(pem_constraint)\n",
    "\n",
    "constraints *= np.amax(distances)  # 制約条件の強さを設定"
   ]
  },
  {
   "cell_type": "markdown",
   "metadata": {},
   "source": [
    "### イジングモデル生成"
   ]
  },
  {
   "cell_type": "code",
   "execution_count": null,
   "metadata": {},
   "outputs": [],
   "source": [
    "#######################################################\n",
    "# 確認用\n",
    "model = cost + constraints\n",
    "\n",
    "# model.logical_poly\n",
    "# model.input_constraints\n",
    "# model.input_constraints[0][0].penalty"
   ]
  },
  {
   "cell_type": "markdown",
   "metadata": {},
   "source": [
    "### ソルバ生成"
   ]
  },
  {
   "cell_type": "code",
   "execution_count": null,
   "metadata": {},
   "outputs": [],
   "source": [
    "from amplify import Solver\n",
    "from amplify.client import FixstarsClient\n",
    "\n",
    "client = FixstarsClient()\n",
    "client.token = \"rSnIw4H95J8GuAKbvPxzG2PMOCCcFoZD\"  #2022-11-27まで有効\n",
    "client.parameters.timeout = 1000  # タイムアウト1秒\n",
    "\n",
    "solver = Solver(client)"
   ]
  },
  {
   "cell_type": "markdown",
   "metadata": {},
   "source": [
    "### ソルバ実行"
   ]
  },
  {
   "cell_type": "code",
   "execution_count": null,
   "metadata": {},
   "outputs": [],
   "source": [
    "result = solver.solve(model)\n",
    "if len(result) == 0:\n",
    "    raise RuntimeError(\"Any one of constraints is not satisfied.\")\n",
    "\n",
    "energy = result[0].energy\n",
    "values = result[0].values\n",
    "print('energy = ',energy)\n",
    "\n",
    "q_values = q.decode(values)\n",
    "# print('q_values = ',q_values)\n",
    "\n",
    "print('Execution time =',solver.execution_time, '[msec]')"
   ]
  },
  {
   "cell_type": "markdown",
   "metadata": {},
   "source": [
    "### ソルバ実行（ループ）"
   ]
  },
  {
   "cell_type": "code",
   "execution_count": null,
   "metadata": {},
   "outputs": [],
   "source": [
    "import csv\n",
    "\n",
    "# 繰り返し回数\n",
    "lcount = 10\n",
    "\n",
    "with open('/Users/stomo/Desktop/temp_qa.csv', 'w') as f:\n",
    "    writer = csv.writer(f)\n",
    "    writer.writerow(['count', 'energy', 'time'])\n",
    "\n",
    "    for k in range (lcount):\n",
    "        result = solver.solve(model)\n",
    "        if len(result) == 0:\n",
    "            raise RuntimeError(\"Any one of constraints is not satisfied.\")\n",
    "        writer.writerow([k, result[0].energy, solver.execution_time])\n",
    "\n",
    "f.close()\n",
    "\n",
    "values = result[0].values\n",
    "q_values = q.decode(values)"
   ]
  },
  {
   "cell_type": "markdown",
   "metadata": {},
   "source": [
    "### 経路のプロット"
   ]
  },
  {
   "cell_type": "code",
   "execution_count": null,
   "metadata": {},
   "outputs": [],
   "source": [
    "def show_route(route: list, distances: np.ndarray, locations: np.ndarray):\n",
    "\n",
    "    ncity = len(route)\n",
    "    path_length = sum(\n",
    "        [distances[route[i]][route[(i + 1) % ncity]] for i in range(ncity)]\n",
    "    )\n",
    "\n",
    "    x = [i[0] for i in locations]\n",
    "    y = [i[1] for i in locations]\n",
    "    plt.figure(figsize=(7, 7))\n",
    "    plt.title(f\"path length: {path_length}\")\n",
    "    plt.xlabel(\"x\")\n",
    "    plt.ylabel(\"y\")\n",
    "\n",
    "    for i in range(ncity):\n",
    "        r = route[i]\n",
    "        n = route[(i + 1) % ncity]\n",
    "        plt.plot([x[r], x[n]], [y[r], y[n]], \"b-\")\n",
    "    plt.plot(x, y, \"ro\")\n",
    "    plt.show()\n",
    "\n",
    "    # return path_length"
   ]
  },
  {
   "cell_type": "code",
   "execution_count": null,
   "metadata": {},
   "outputs": [],
   "source": [
    "route = np.where(np.array(q_values) == 1)[1]\n",
    "show_route(route, distances, locations)"
   ]
  },
  {
   "cell_type": "markdown",
   "metadata": {},
   "source": [
    "# <span style=\"color: blue; \">0-1 整数線形最適化による定式化</span>\n",
    "## 変数、問題生成"
   ]
  },
  {
   "cell_type": "code",
   "execution_count": null,
   "metadata": {},
   "outputs": [],
   "source": [
    "import networkx as nx\n",
    "from pulp import *\n",
    "from itertools import combinations\n",
    "\n",
    "G = nx.complete_graph(ncity)  # 完全グラフの作成\n",
    "G = nx.to_directed(G)     # 有向グラフ\n",
    "\n",
    "nodes = list(G.nodes)     # 頂点集合\n",
    "edges = list(G.edges)     # 辺集合\n",
    "\n",
    "# 決定変数\n",
    "xvars = LpVariable.dicts('x', edges, None, None, LpBinary)\n",
    "# 巡回順変数\n",
    "wvars = LpVariable.dicts('w', nodes, 1, ncity-1, LpContinuous)\n",
    "\n",
    "# 問題生成\n",
    "TSP = LpProblem('TSP', LpMinimize)"
   ]
  },
  {
   "cell_type": "markdown",
   "metadata": {},
   "source": [
    "## コスト関数\n",
    "$d_{i,j}$ : 辺 $\\{ i,j \\}$ のコスト（距離）\n",
    "$$\n",
    " \\sum_{i,j \\in V} d_{i,j} x_{i,j}\n",
    "$$"
   ]
  },
  {
   "cell_type": "code",
   "execution_count": null,
   "metadata": {},
   "outputs": [],
   "source": [
    "TSP += lpSum([distances[e[0]][e[1]] * xvars[e] for e in edges]), 'Total Cost'"
   ]
  },
  {
   "cell_type": "markdown",
   "metadata": {},
   "source": [
    "## 1-hot 制約\n",
    "### 流入辺は1本\n",
    "$$\n",
    " \\sum_{j \\in V, j \\neq i} x_{i,j} = 1 \\qquad (i \\in V)\n",
    "$$\n",
    "### 流出辺は1本\n",
    "$$\n",
    " \\sum_{i \\in V, i \\neq j} x_{i,j} = 1 \\qquad (j \\in V)\n",
    "$$"
   ]
  },
  {
   "cell_type": "code",
   "execution_count": null,
   "metadata": {},
   "outputs": [],
   "source": [
    "for u in nodes:\n",
    "    # 流出辺\n",
    "    TSP += lpSum([xvars[e] for e in edges if e[0] == u]) == 1, 'Flow Conservation (out) %s'%u\n",
    "    # 流入辺\n",
    "    TSP += lpSum([xvars[e] for e in edges if e[1] == u]) == 1, 'flow Conservation (in) %s'%u"
   ]
  },
  {
   "cell_type": "markdown",
   "metadata": {},
   "source": [
    "## 部分順回路除去制約\n",
    "### MTZ\n",
    "$w_i$ : 頂点 $i$ の訪問順（ただし、$w_0 = 0$）（頂点 0 は出発点）\n",
    "$$\n",
    " w_i + 1 - (n-1) (1-x_{i,j}) \\leq w_j \\qquad (i,j = 1, \\ldots, n-1, i \\neq j)\n",
    "$$\n",
    "\n",
    "### 訪問順の上下限\n",
    "$$\n",
    " w_i \\geq 2 - x_{0,i} + (n-3) x_{i,0}, \\; w_i \\leq n-2 + x_{i,0} - (n-3) x_{0,i}\n",
    "$$"
   ]
  },
  {
   "cell_type": "code",
   "execution_count": null,
   "metadata": {},
   "outputs": [],
   "source": [
    "# 制約: 部分順回路除去　(MTZ)\n",
    "nodeset = set(nodes)\n",
    "for (u,v) in [(u,v) for u in nodes for v in nodes if u!= 0 and v!=0 and u!=v]:\n",
    "    TSP += wvars[u] + 1 - (ncity-1)*(1-xvars[(u,v)]) <= wvars[v]\n",
    "    TSP += 2 - xvars[(0,u)] + (ncity - 3)*xvars[(u,0)] <= wvars[u]\n",
    "    TSP += ncity - 2 + xvars[(u,0)] - (ncity - 3)*xvars[(0,u)] >= wvars[u]"
   ]
  },
  {
   "cell_type": "markdown",
   "metadata": {},
   "source": [
    "### 求解"
   ]
  },
  {
   "cell_type": "code",
   "execution_count": null,
   "metadata": {},
   "outputs": [],
   "source": [
    "# ソルバスレッド数設定\n",
    "solver = COIN_CMD(threads=10)\n",
    "# 求解\n",
    "status = TSP.solve(solver)\n",
    "\n",
    "print('Status:', LpStatus[status])\n",
    "print('Optimal val:', value(TSP.objective))\n",
    "for e in edges:\n",
    "    if xvars[e].value() > 0.5:\n",
    "        print(e,xvars[e].value(), ' cost:', distances[e[0]][e[1]])\n",
    "print('n:', ncity, ', number of constraints:', len(TSP.constraints))"
   ]
  },
  {
   "cell_type": "markdown",
   "metadata": {},
   "source": [
    "### 求解（ループ）"
   ]
  },
  {
   "cell_type": "code",
   "execution_count": null,
   "metadata": {},
   "outputs": [],
   "source": [
    "import csv\n",
    "import time\n",
    "\n",
    "# 繰り返し回数\n",
    "lcount = 10\n",
    "\n",
    "# ソルバスレッド数設定\n",
    "solver = COIN_CMD(threads=10)\n",
    "\n",
    "with open('/Users/stomo/Desktop/temp_lp.csv', 'w') as f:\n",
    "    writer = csv.writer(f)\n",
    "    writer.writerow(['count', 'energy', 'time'])\n",
    "\n",
    "    for k in range (lcount):\n",
    "        st = time.time()\n",
    "        status = TSP.solve(solver)\n",
    "        et = time.time() -st\n",
    "        if LpStatus[status] != 'Optimal':\n",
    "            raise RuntimeError(\"Any one of constraints is not satisfied.\")\n",
    "        writer.writerow([k, value(TSP.objective), et*1000])\n",
    "\n",
    "f.close()"
   ]
  },
  {
   "cell_type": "markdown",
   "metadata": {},
   "source": [
    "## 経路のプロット"
   ]
  },
  {
   "cell_type": "code",
   "execution_count": null,
   "metadata": {},
   "outputs": [],
   "source": [
    "import matplotlib.pyplot as plt\n",
    "\n",
    "path_length = sum([distances[e[0]][e[1]] for e in edges if xvars[e].value() > 0.5])\n",
    "\n",
    "plt.figure(figsize=(7, 7))\n",
    "plt.title(f'path length:{path_length}')\n",
    "plt.xlabel(\"x\")\n",
    "plt.ylabel(\"y\")\n",
    "\n",
    "for e in edges:\n",
    "    if xvars[e].value() > 0.5:\n",
    "        plt.plot([locations[e[0]][[0]], locations[e[1]][[0]]], [locations[e[0]][[1]], locations[e[1]][[1]]], 'b-')\n",
    "\n",
    "plt.plot([i[0] for i in locations],[i[1] for i in locations],'ro')\n",
    "plt.show()"
   ]
  },
  {
   "cell_type": "code",
   "execution_count": null,
   "metadata": {},
   "outputs": [],
   "source": []
  }
 ],
 "metadata": {
  "kernelspec": {
   "display_name": "Python 3.9.13 ('pulp')",
   "language": "python",
   "name": "python3"
  },
  "language_info": {
   "codemirror_mode": {
    "name": "ipython",
    "version": 3
   },
   "file_extension": ".py",
   "mimetype": "text/x-python",
   "name": "python",
   "nbconvert_exporter": "python",
   "pygments_lexer": "ipython3",
   "version": "3.9.13"
  },
  "orig_nbformat": 4,
  "vscode": {
   "interpreter": {
    "hash": "dad3ad940ca24f6a3c4d59d4f2fa6744176a2ec9fd31981024b5cc7d3a795a2f"
   }
  }
 },
 "nbformat": 4,
 "nbformat_minor": 2
}
