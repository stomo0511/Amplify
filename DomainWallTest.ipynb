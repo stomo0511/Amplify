{
 "cells": [
  {
   "cell_type": "code",
   "execution_count": 45,
   "id": "a30370c9",
   "metadata": {},
   "outputs": [
    {
     "name": "stdout",
     "output_type": "stream",
     "text": [
      "q: [q_0, q_1, q_2, q_3, q_4]\n"
     ]
    }
   ],
   "source": [
    "from amplify import VariableGenerator\n",
    "\n",
    "N = 5\n",
    "gen = VariableGenerator()\n",
    "q = gen.array(\"Binary\", N, name=\"q\")\n",
    "\n",
    "# q[N-1] = 1\n",
    "print(f\"q: {q}\")"
   ]
  },
  {
   "cell_type": "code",
   "execution_count": 46,
   "id": "b84aa966",
   "metadata": {},
   "outputs": [],
   "source": [
    "from amplify import domain_wall\n",
    "\n",
    "model = domain_wall(q)\n"
   ]
  },
  {
   "cell_type": "code",
   "execution_count": 48,
   "id": "75b342e0",
   "metadata": {},
   "outputs": [
    {
     "name": "stdout",
     "output_type": "stream",
     "text": [
      "True\n",
      "0.0\n",
      "{q_0: 1, q_1: 1, q_2: 1, q_3: 1, q_4: 1}\n"
     ]
    }
   ],
   "source": [
    "from amplify import FixstarsClient, solve\n",
    "from datetime import timedelta\n",
    "    \n",
    "client = FixstarsClient()\n",
    "client.token = \"AE/Pbc9Mo21lDErqmIgJgHhvnM89jvmB37A\"\n",
    "client.parameters.timeout = timedelta(milliseconds=100)  # タイムアウト\n",
    "    \n",
    "# ソルバーの設定と結果の取得\n",
    "result = solve(model, client)\n",
    "if len(result) == 0:\n",
    "    raise RuntimeError(\"At least one of the constraints is not satisfied.\")\n",
    "\n",
    "print(result.best.feasible)\n",
    "print(result.best.objective)\n",
    "print(result.best.values)"
   ]
  }
 ],
 "metadata": {
  "kernelspec": {
   "display_name": "amplify",
   "language": "python",
   "name": "python3"
  },
  "language_info": {
   "codemirror_mode": {
    "name": "ipython",
    "version": 3
   },
   "file_extension": ".py",
   "mimetype": "text/x-python",
   "name": "python",
   "nbconvert_exporter": "python",
   "pygments_lexer": "ipython3",
   "version": "3.12.9"
  }
 },
 "nbformat": 4,
 "nbformat_minor": 5
}
