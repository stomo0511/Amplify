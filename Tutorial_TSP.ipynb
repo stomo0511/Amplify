{
 "cells": [
  {
   "cell_type": "markdown",
   "metadata": {},
   "source": [
    "## 問題の生成\n",
    "numpy を使って２次元平面上のランダムな位置に32都市を配置する。\n",
    "各都市間の距離を表す距離行列 $d$ も生成する。"
   ]
  },
  {
   "cell_type": "code",
   "execution_count": 1,
   "metadata": {},
   "outputs": [],
   "source": [
    "import numpy as np\n",
    "    \n",
    "def gen_random_tsp(num_cities: int):\n",
    "    rng = np.random.default_rng()\n",
    "    \n",
    "    # 座標\n",
    "    locations = rng.random(size=(num_cities, 2))\n",
    "    \n",
    "    # 距離行列\n",
    "    x = locations[:, 0]\n",
    "    y = locations[:, 1]\n",
    "    distances = np.sqrt(\n",
    "        (x[:, np.newaxis] - x[np.newaxis, :]) ** 2\n",
    "        + (y[:, np.newaxis] - y[np.newaxis, :]) ** 2\n",
    "    )\n",
    "    \n",
    "    return locations, distances"
   ]
  },
  {
   "cell_type": "code",
   "execution_count": 2,
   "metadata": {},
   "outputs": [],
   "source": [
    "NUM_CITIES = 30\n",
    "locations, distances = gen_random_tsp(NUM_CITIES)"
   ]
  },
  {
   "cell_type": "markdown",
   "metadata": {},
   "source": [
    "生成した各都市のプロット"
   ]
  },
  {
   "cell_type": "code",
   "execution_count": 3,
   "metadata": {},
   "outputs": [],
   "source": [
    "import matplotlib.pyplot as plt\n",
    "    \n",
    "    \n",
    "def show_plot(locations: np.ndarray):\n",
    "    plt.figure(figsize=(7, 7))\n",
    "    plt.xlabel(\"x\")\n",
    "    plt.ylabel(\"y\")\n",
    "    plt.scatter(locations[:, 0], locations[:, 1])\n",
    "    plt.show()"
   ]
  },
  {
   "cell_type": "code",
   "execution_count": 4,
   "metadata": {},
   "outputs": [
    {
     "data": {
      "image/png": "[encoded data removed]",
      "text/plain": [
       "<Figure size 700x700 with 1 Axes>"
      ]
     },
     "metadata": {},
     "output_type": "display_data"
    }
   ],
   "source": [
    "show_plot(locations)"
   ]
  },
  {
   "cell_type": "markdown",
   "metadata": {},
   "source": [
    "## 組合せ最適化モデルの構築\n",
    "巡回セールスマン問題の定式化。\n",
    "$(N+1) \\times N$ のバイナリ変数で、$q[i,j]$ 都市のインデックス $i$、巡回順のインデックス $j$。"
   ]
  },
  {
   "cell_type": "code",
   "execution_count": 5,
   "metadata": {},
   "outputs": [],
   "source": [
    "from amplify import VariableGenerator\n",
    "\n",
    "gen = VariableGenerator()\n",
    "q = gen.array(\"Binary\", shape=(NUM_CITIES + 1, NUM_CITIES))\n",
    "q[NUM_CITIES, :] = q[0, :]  # 最初の都市と最後の都市は同じ。この固定はコスト関数、制約関数の定義より前に行う\n",
    "    \n",
    "# print(q)"
   ]
  },
  {
   "cell_type": "markdown",
   "metadata": {},
   "source": [
    "コスト関数における和の演算に対して einsum 関数を使用する。\n",
    "- $q[:-1]$ は $q$ の最後の行を除いた $N \\times N$ 部分 -> $q^U$\n",
    "- $q[1:]$ は $q$ の最初の行を除いた $N \\times N$ 部分 -> $q^D$\n",
    "これらを用いて、\n",
    "$$\n",
    " \\sum_{n=0}^{N-1} \\sum_{i=0}^{N-1} \\sum_{j=0}^{N-1} d_{i,j} q_{n,i} q_{n+1,j} = \\sum_{n,i,j} d_{i,j} q_{n,i}^{U} q_{n,j}^{D}\n",
    "$$"
   ]
  },
  {
   "cell_type": "code",
   "execution_count": 6,
   "metadata": {},
   "outputs": [],
   "source": [
    "from amplify import einsum, Poly\n",
    "    \n",
    "objective: Poly = einsum(\"ij,ni,nj->\", distances, q[:-1], q[1:])  # type: ignore"
   ]
  },
  {
   "cell_type": "code",
   "execution_count": 7,
   "metadata": {},
   "outputs": [],
   "source": [
    "from amplify import sum as amplify_sum\n",
    "    \n",
    "cost = amplify_sum(\n",
    "    range(NUM_CITIES),\n",
    "    lambda n: amplify_sum(\n",
    "        range(NUM_CITIES),\n",
    "        lambda i: amplify_sum(\n",
    "            range(NUM_CITIES), lambda j: distances[i, j] * q[n, i] * q[n + 1, j]\n",
    "        ),\n",
    "    ),\n",
    ")"
   ]
  },
  {
   "cell_type": "markdown",
   "metadata": {},
   "source": [
    "制約条件構築"
   ]
  },
  {
   "cell_type": "code",
   "execution_count": 8,
   "metadata": {},
   "outputs": [],
   "source": [
    "from amplify import one_hot\n",
    "    \n",
    "# 最後の行を除いた q の各行のうち一つのみが 1 である制約\n",
    "row_constraints = one_hot(q[:-1], axis=1)\n",
    "    \n",
    "# 最後の行を除いた q の各列のうち一つのみが 1 である制約\n",
    "col_constraints = one_hot(q[:-1], axis=0)\n",
    "    \n",
    "constraints = row_constraints + col_constraints"
   ]
  },
  {
   "cell_type": "code",
   "execution_count": 10,
   "metadata": {},
   "outputs": [],
   "source": [
    "r_const = 0\n",
    "for i in range(NUM_CITIES):\n",
    "    temp = 0.0\n",
    "    for j in range(NUM_CITIES):\n",
    "        temp += q[i,j]\n",
    "    r_const += (1.0 - temp) ** 2\n",
    "\n",
    "c_const = 0\n",
    "for j in range(NUM_CITIES):\n",
    "    temp = 0.0\n",
    "    for i in range(NUM_CITIES):\n",
    "        temp += q[i,j]\n",
    "    c_const += (1.0 - temp) ** 2\n",
    "\n",
    "# print(r_const)\n",
    "# print(c_const)\n",
    "\n",
    "constraints = r_const + c_const"
   ]
  },
  {
   "cell_type": "markdown",
   "metadata": {},
   "source": [
    "コスト関数を作成し、制約と合わせてモデルを生成"
   ]
  },
  {
   "cell_type": "code",
   "execution_count": 11,
   "metadata": {},
   "outputs": [],
   "source": [
    "constraints *= np.amax(distances)  # 制約条件の強さを設定\n",
    "model = objective + constraints\n",
    "# model = cost + constraints"
   ]
  },
  {
   "cell_type": "markdown",
   "metadata": {},
   "source": [
    "イジングマシン実行"
   ]
  },
  {
   "cell_type": "code",
   "execution_count": null,
   "metadata": {},
   "outputs": [],
   "source": [
    "from datetime import timedelta\n",
    "from amplify import FixstarsClient, solve\n",
    "    \n",
    "client = FixstarsClient()\n",
    "client.token = \"AE/ar62PjutSqmuoEa8bvfyrEmjE1rCpOqE\"\n",
    "client.parameters.timeout = timedelta(milliseconds=1000)  # タイムアウト 1000 ミリ秒\n",
    "    \n",
    "# ソルバーの設定と結果の取得\n",
    "result = solve(model, client)\n",
    "if len(result) == 0:\n",
    "    raise RuntimeError(\"At least one of the constraints is not satisfied.\")"
   ]
  },
  {
   "cell_type": "code",
   "execution_count": 23,
   "metadata": {},
   "outputs": [
    {
     "data": {
      "text/plain": [
       "4.492834425085007"
      ]
     },
     "execution_count": 23,
     "metadata": {},
     "output_type": "execute_result"
    }
   ],
   "source": [
    "result.best.objective"
   ]
  },
  {
   "cell_type": "code",
   "execution_count": 24,
   "metadata": {},
   "outputs": [
    {
     "name": "stdout",
     "output_type": "stream",
     "text": [
      "[ 9 12 26 24  3 13  8 22  4 18 20 11 15  6 23 10 27  2 17  1 25  7  5 14\n",
      " 19 28 16 21  0 29]\n"
     ]
    }
   ],
   "source": [
    "q_values =q.evaluate(result.best.values)\n",
    "\n",
    "route = np.where(q_values[:-1] == 1)[1]\n",
    "print(route)\n",
    "# print(len(route))"
   ]
  },
  {
   "cell_type": "code",
   "execution_count": 20,
   "metadata": {},
   "outputs": [],
   "source": [
    "def show_route(route: np.ndarray, distances: np.ndarray, locations: np.ndarray):\n",
    "    path_length = sum([distances[route[i]][route[(i + 1) % NUM_CITIES]] for i in range(NUM_CITIES)])\n",
    "    \n",
    "    x = [i[0] for i in locations]\n",
    "    y = [i[1] for i in locations]\n",
    "    plt.figure(figsize=(7, 7))\n",
    "    plt.title(f\"path length: {path_length}\")\n",
    "    plt.xlabel(\"x\")\n",
    "    plt.ylabel(\"y\")\n",
    "    \n",
    "    for i in range(NUM_CITIES):\n",
    "        r = route[i]\n",
    "        n = route[(i + 1) % NUM_CITIES]\n",
    "        plt.plot([x[r], x[n]], [y[r], y[n]], \"b-\")\n",
    "    plt.plot(x, y, \"ro\")\n",
    "    plt.show()\n",
    "    \n",
    "    return path_length"
   ]
  },
  {
   "cell_type": "code",
   "execution_count": 25,
   "metadata": {},
   "outputs": [
    {
     "data": {
      "image/png": "[encoded data removed]",
      "text/plain": [
       "<Figure size 700x700 with 1 Axes>"
      ]
     },
     "metadata": {},
     "output_type": "display_data"
    },
    {
     "data": {
      "text/plain": [
       "4.4928344250850225"
      ]
     },
     "execution_count": 25,
     "metadata": {},
     "output_type": "execute_result"
    }
   ],
   "source": [
    "show_route(route, distances, locations)"
   ]
  }
 ],
 "metadata": {
  "kernelspec": {
   "display_name": "amplify",
   "language": "python",
   "name": "python3"
  },
  "language_info": {
   "codemirror_mode": {
    "name": "ipython",
    "version": 3
   },
   "file_extension": ".py",
   "mimetype": "text/x-python",
   "name": "python",
   "nbconvert_exporter": "python",
   "pygments_lexer": "ipython3",
   "version": "3.11.10"
  }
 },
 "nbformat": 4,
 "nbformat_minor": 2
}
