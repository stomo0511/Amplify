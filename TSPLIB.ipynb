{
 "cells": [
  {
   "cell_type": "markdown",
   "metadata": {},
   "source": [
    "# TSP"
   ]
  },
  {
   "cell_type": "code",
   "execution_count": 11,
   "metadata": {},
   "outputs": [
    {
     "name": "stdout",
     "output_type": "stream",
     "text": [
      "number of verteces =  17\n"
     ]
    }
   ],
   "source": [
    "# TSPLIB の XML ファイルの読み込み\n",
    "\n",
    "import xml.etree.ElementTree as ET\n",
    "import numpy as np\n",
    "\n",
    "tree = ET.parse('gr17.xml')   # ファイル名\n",
    "# gr17 の最短経路は 2085\n",
    "root = tree.getroot()\n",
    "\n",
    "ncity = 0  # number of verteces (=cities)\n",
    "for vertex in root.iter('vertex'):\n",
    "    ncity += 1\n",
    "\n",
    "print('number of verteces = ',ncity)\n",
    "\n",
    "distances = np.zeros((ncity, ncity))\n",
    "\n",
    "cn = 0\n",
    "for vertex in root.iter('vertex'):\n",
    "    for edge in vertex.iter('edge'):\n",
    "        distances[cn][int(edge.text)] = edge.get('cost')\n",
    "    cn += 1"
   ]
  },
  {
   "cell_type": "markdown",
   "metadata": {},
   "source": [
    "# <span style=\"color: blue; \">QUBO定式化 （PyQUBO）</span>"
   ]
  },
  {
   "cell_type": "code",
   "execution_count": 12,
   "metadata": {},
   "outputs": [],
   "source": [
    "from pyqubo import Array, Placeholder, Constraint, Binary\n",
    "\n",
    "# ２値変数 q_{i,j} : 都市 i から都市 j への経路を選択するとき 1\n",
    "x = Array.create('c', (ncity, ncity), 'BINARY')"
   ]
  },
  {
   "cell_type": "code",
   "execution_count": 13,
   "metadata": {},
   "outputs": [],
   "source": [
    "# Constraint not to visit more than two cities at the same time.\n",
    "time_const = 0.0\n",
    "for i in range(ncity):\n",
    "    # If you wrap the hamiltonian by Const(...), this part is recognized as constraint\n",
    "    time_const += Constraint((sum(x[i, j] for j in range(ncity)) - 1)**2, label=\"time{}\".format(i))\n",
    "\n",
    "# Constraint not to visit the same city more than twice.\n",
    "city_const = 0.0\n",
    "for j in range(ncity):\n",
    "    city_const += Constraint((sum(x[i, j] for i in range(ncity)) - 1)**2, label=\"city{}\".format(j))"
   ]
  },
  {
   "cell_type": "code",
   "execution_count": 14,
   "metadata": {},
   "outputs": [],
   "source": [
    "# distance of route\n",
    "dist = 0.0\n",
    "for i in range(ncity):\n",
    "    for j in range(ncity):\n",
    "        for k in range(ncity):\n",
    "            dist += distances[i, j] * x[k, i] * x[(k+1)%ncity, j]"
   ]
  },
  {
   "cell_type": "code",
   "execution_count": 15,
   "metadata": {},
   "outputs": [],
   "source": [
    "# Construct hamiltonian\n",
    "A = Placeholder(\"A\")\n",
    "H = dist + A * (time_const + city_const)"
   ]
  },
  {
   "cell_type": "code",
   "execution_count": 16,
   "metadata": {},
   "outputs": [],
   "source": [
    "# Compile model\n",
    "pq_model = H.compile()"
   ]
  },
  {
   "cell_type": "code",
   "execution_count": 17,
   "metadata": {},
   "outputs": [],
   "source": [
    "# Generate QUBO\n",
    "\n",
    "# feed_dict = {'A': 0.5}\n",
    "feed_dict = {'A': np.amax(distances)}\n",
    "bqm = pq_model.to_bqm(feed_dict=feed_dict)"
   ]
  },
  {
   "cell_type": "code",
   "execution_count": 18,
   "metadata": {},
   "outputs": [
    {
     "name": "stdout",
     "output_type": "stream",
     "text": [
      "Number of broken constarint = 0\n",
      "Execution time = 4867.622137069702 [msec]\n",
      "path length 2676.0\n"
     ]
    }
   ],
   "source": [
    "import neal\n",
    "import time\n",
    "\n",
    "st = time.time()  # 時間計測開始\n",
    "sa = neal.SimulatedAnnealingSampler()\n",
    "sampleset = sa.sample(bqm, num_reads=100, num_sweeps=10000)\n",
    "et = time.time() - st  # 時間計測修了\n",
    "\n",
    "# Decode solution\n",
    "decoded_samples = pq_model.decode_sampleset(sampleset, feed_dict=feed_dict)\n",
    "best_sample = min(decoded_samples, key=lambda x: x.energy)\n",
    "num_broken = len(best_sample.constraints(only_broken=True))\n",
    "print('Number of broken constarint = {}'.format(num_broken))\n",
    "print('Execution time =',et*1000, '[msec]')\n",
    "\n",
    "if num_broken == 0:\n",
    "    city_order = []\n",
    "    for i in range(ncity):\n",
    "            for j in range(ncity):\n",
    "                if best_sample.array('c', (i, j)) == 1:\n",
    "                    city_order.append(j)\n",
    "\n",
    "print('path length',sum(\n",
    "        [distances[city_order[i]][city_order[(i + 1) % ncity]] for i in range(ncity)]\n",
    "    ))"
   ]
  },
  {
   "cell_type": "markdown",
   "metadata": {},
   "source": [
    "## ソルバ実行（ループ）"
   ]
  },
  {
   "cell_type": "code",
   "execution_count": null,
   "metadata": {},
   "outputs": [],
   "source": [
    "import csv\n",
    "\n",
    "# 繰り返し回数\n",
    "lcount = 10\n",
    "\n",
    "with open('/home/stomo/Desktop/temp_sa.csv', 'w') as f:\n",
    "    writer = csv.writer(f)\n",
    "    writer.writerow(['count', 'energy', 'time'])\n",
    "\n",
    "    for k in range (lcount):\n",
    "        st = time.time()  # 時間計測開始\n",
    "        sa = neal.SimulatedAnnealingSampler()\n",
    "        sampleset = sa.sample(bqm, num_reads=100, num_sweeps=10000)\n",
    "        et = time.time() - st  # 時間計測修了\n",
    "        \n",
    "        # Decode solution\n",
    "        decoded_samples = pq_model.decode_sampleset(sampleset, feed_dict=feed_dict)\n",
    "        best_sample = min(decoded_samples, key=lambda x: x.energy)\n",
    "        num_broken = len(best_sample.constraints(only_broken=True))\n",
    "\n",
    "        if num_broken != 0:\n",
    "            raise RuntimeError(\"Any one of constraints is not satisfied.\")\n",
    "\n",
    "        city_order = []\n",
    "        for i in range(ncity):\n",
    "            for j in range(ncity):\n",
    "                if best_sample.array('c', (i, j)) == 1:\n",
    "                    city_order.append(j)\n",
    "\n",
    "        pl = sum(\n",
    "            [distances[city_order[i]][city_order[(i + 1) % ncity]] for i in range(ncity)]\n",
    "            )\n",
    "        \n",
    "        writer.writerow([k, pl, et*1000])\n",
    "\n",
    "f.close()"
   ]
  },
  {
   "cell_type": "markdown",
   "metadata": {},
   "source": [
    "# <span style=\"color: blue; \">QUBO定式化 （Amplify）</span>"
   ]
  },
  {
   "cell_type": "code",
   "execution_count": 19,
   "metadata": {},
   "outputs": [],
   "source": [
    "from amplify import BinarySymbolGenerator\n",
    "\n",
    "gen = BinarySymbolGenerator()\n",
    "# ２値変数 q_{i,j} : 都市 i から都市 j への経路を選択するとき 1\n",
    "q = gen.array(ncity, ncity)"
   ]
  },
  {
   "cell_type": "markdown",
   "metadata": {},
   "source": [
    "### <span style=\"color: red; \">回転対称性の除去</span>\n",
    "0番目の都市から開始する"
   ]
  },
  {
   "cell_type": "code",
   "execution_count": null,
   "metadata": {},
   "outputs": [],
   "source": [
    "q[0,0] = 1\n",
    "for i in range(1,ncity):\n",
    "    q[0,i] = 0\n",
    "    q[i,0] = 0"
   ]
  },
  {
   "cell_type": "code",
   "execution_count": 20,
   "metadata": {},
   "outputs": [],
   "source": [
    "# Cost function\n",
    "from amplify import sum_poly\n",
    "\n",
    "cost = sum_poly(\n",
    "    ncity,\n",
    "    lambda n: sum_poly(\n",
    "        ncity,\n",
    "        lambda i: sum_poly(\n",
    "            ncity, lambda j: distances[i, j] * q[n, i] * q[(n + 1) % ncity, j]\n",
    "        ),\n",
    "    ),\n",
    ")"
   ]
  },
  {
   "cell_type": "code",
   "execution_count": 21,
   "metadata": {},
   "outputs": [],
   "source": [
    "# constraint function\n",
    "from amplify.constraint import one_hot\n",
    "\n",
    "# 行に対する制約\n",
    "row_constraints = [one_hot(q[n]) for n in range(ncity)]\n",
    "# 列に対する制約\n",
    "col_constraints = [one_hot(q[:, i]) for i in range(ncity)]"
   ]
  },
  {
   "cell_type": "markdown",
   "metadata": {},
   "source": [
    "### <span style=\"color: red; \">反転対称性の除去</span>\n",
    "[ 0 7 1 5 6 3 4 2] と [0 2 4 3 6 5 1 7 ] は反転しているが同一の解。\n",
    "これを除去する制約を追加する。\n",
    "\n",
    "$ q_{N-1, i} q_{1,j} = 0 \\qquad (i<j)$"
   ]
  },
  {
   "cell_type": "code",
   "execution_count": null,
   "metadata": {},
   "outputs": [],
   "source": [
    "from amplify.constraint import penalty\n",
    "\n",
    "# 順序に対する制約\n",
    "pem_constraint = [\n",
    "    penalty(q[ncity - 1, i] * q[1, j])\n",
    "    for i in range(ncity)\n",
    "    for j in range(i + 1, ncity)\n",
    "]\n",
    "\n",
    "# 下の制約式変更すること"
   ]
  },
  {
   "cell_type": "markdown",
   "metadata": {},
   "source": [
    "### 制約"
   ]
  },
  {
   "cell_type": "code",
   "execution_count": 22,
   "metadata": {},
   "outputs": [],
   "source": [
    "from amplify import sum_poly\n",
    "\n",
    "# constraints = sum(row_constraints)\n",
    "constraints = sum(row_constraints) + sum(col_constraints)\n",
    "# constraints = sum(row_constraints) + sum(col_constraints) + sum(pem_constraint)\n",
    "\n",
    "constraints *= np.amax(distances)  # 制約条件の強さを設定"
   ]
  },
  {
   "cell_type": "markdown",
   "metadata": {},
   "source": [
    "### イジングモデル生成"
   ]
  },
  {
   "cell_type": "code",
   "execution_count": 23,
   "metadata": {},
   "outputs": [],
   "source": [
    "#######################################################\n",
    "# 確認用\n",
    "model = cost + constraints\n",
    "\n",
    "# model.logical_poly\n",
    "# model.input_constraints\n",
    "# model.input_constraints[0][0].penalty"
   ]
  },
  {
   "cell_type": "markdown",
   "metadata": {},
   "source": [
    "### ソルバ生成"
   ]
  },
  {
   "cell_type": "code",
   "execution_count": 24,
   "metadata": {},
   "outputs": [],
   "source": [
    "from amplify import Solver\n",
    "from amplify.client import FixstarsClient\n",
    "\n",
    "client = FixstarsClient()\n",
    "client.token = \"rSnIw4H95J8GuAKbvPxzG2PMOCCcFoZD\"  #2022-11-27まで有効\n",
    "client.parameters.timeout = 10000  # タイムアウト10秒（ディフォルト10秒）\n",
    "client.parameters.outputs.duplicate = False  # エネルギー値が同一の解を異なる解とみなす\n",
    "client.parameters.outputs.num_outputs = 0   # スピン配列とエネルギー値をすべて出力\n",
    "\n",
    "solver_am = Solver(client)"
   ]
  },
  {
   "cell_type": "markdown",
   "metadata": {},
   "source": [
    "### ソルバ実行"
   ]
  },
  {
   "cell_type": "code",
   "execution_count": 25,
   "metadata": {},
   "outputs": [
    {
     "name": "stdout",
     "output_type": "stream",
     "text": [
      "# of solutions =  3\n",
      "energy =  2085.0\n",
      "Feasible solution:  True\n",
      "Execution time = 9947 [msec]\n"
     ]
    }
   ],
   "source": [
    "from amplify.client import FixstarsClient\n",
    "\n",
    "# ソルバ result\n",
    "solver_result = solver_am.solve(model)\n",
    "if len(solver_result) == 0:\n",
    "    raise RuntimeError(\"Any one of constraints is not satisfied.\")\n",
    "\n",
    "print('# of solutions = ',len(solver_result))\n",
    "\n",
    "energy = solver_result[0].energy\n",
    "print('energy = ',energy)\n",
    "\n",
    "values = solver_result[0].values\n",
    "q_values = q.decode(values)\n",
    "# print('q_values = ',q_values)\n",
    "\n",
    "print('Feasible solution: ', solver_result[0].is_feasible)\n",
    "print('Execution time =',solver_am.execution_time, '[msec]')\n",
    "\n",
    "# クライアント result\n",
    "# client_result = solver_am.client_result\n",
    "# print('client annealing time', client_result.timing.annealing_time)\n",
    "# print('client cpu time',client_result.timing.cpu_time)\n",
    "# print('clent execution num iterations',client_result.execution_parameters.num_iterations)\n",
    "# print('client unit step',client_result.execution_parameters.num_unit_steps)"
   ]
  },
  {
   "cell_type": "markdown",
   "metadata": {},
   "source": [
    "### ソルバ実行（ループ）"
   ]
  },
  {
   "cell_type": "code",
   "execution_count": null,
   "metadata": {},
   "outputs": [],
   "source": [
    "import csv\n",
    "\n",
    "# 繰り返し回数\n",
    "lcount = 10\n",
    "\n",
    "with open('/Users/stomo/Desktop/temp_qa.csv', 'w') as f:\n",
    "    writer = csv.writer(f)\n",
    "    writer.writerow(['count', 'energy', 'time'])\n",
    "\n",
    "    for k in range (lcount):\n",
    "        result = solver_am.solve(model)\n",
    "        if len(result) == 0:\n",
    "            raise RuntimeError(\"Any one of constraints is not satisfied.\")\n",
    "        writer.writerow([k, result[0].energy, solver_am.execution_time])\n",
    "\n",
    "f.close()\n",
    "\n",
    "values = result[0].values\n",
    "q_values = q.decode(values)"
   ]
  },
  {
   "cell_type": "markdown",
   "metadata": {},
   "source": [
    "# <span style=\"color: blue; \">0-1 整数線形最適化による定式化</span>\n",
    "訪問順を表す変数（整数値）を導入するので、**混合整数計画問題**となる\n",
    "## 変数、問題生成"
   ]
  },
  {
   "cell_type": "code",
   "execution_count": 26,
   "metadata": {},
   "outputs": [],
   "source": [
    "import networkx as nx\n",
    "from pulp import *\n",
    "from itertools import combinations\n",
    "\n",
    "G = nx.complete_graph(ncity)  # 完全グラフの作成\n",
    "G = nx.to_directed(G)     # 有向グラフ\n",
    "\n",
    "nodes = list(G.nodes)     # 頂点集合\n",
    "edges = list(G.edges)     # 辺集合\n",
    "\n",
    "# 決定変数\n",
    "xvars = LpVariable.dicts('x', edges, None, None, LpBinary)\n",
    "# 巡回順変数\n",
    "wvars = LpVariable.dicts('w', nodes, 1, ncity-1, LpContinuous)\n",
    "\n",
    "# 問題生成\n",
    "TSP = LpProblem('TSP', LpMinimize)"
   ]
  },
  {
   "cell_type": "markdown",
   "metadata": {},
   "source": [
    "## コスト関数\n",
    "$d_{i,j}$ : 辺 $\\{ i,j \\}$ のコスト（距離）\n",
    "$$\n",
    " \\sum_{i,j \\in V} d_{i,j} x_{i,j}\n",
    "$$"
   ]
  },
  {
   "cell_type": "code",
   "execution_count": 27,
   "metadata": {},
   "outputs": [],
   "source": [
    "TSP += lpSum([distances[e[0]][e[1]] * xvars[e] for e in edges]), 'Total Cost'"
   ]
  },
  {
   "cell_type": "markdown",
   "metadata": {},
   "source": [
    "## 1-hot 制約\n",
    "### 流入辺は1本\n",
    "$$\n",
    " \\sum_{j \\in V, j \\neq i} x_{i,j} = 1 \\qquad (i \\in V)\n",
    "$$\n",
    "### 流出辺は1本\n",
    "$$\n",
    " \\sum_{i \\in V, i \\neq j} x_{i,j} = 1 \\qquad (j \\in V)\n",
    "$$"
   ]
  },
  {
   "cell_type": "code",
   "execution_count": 28,
   "metadata": {},
   "outputs": [],
   "source": [
    "for u in nodes:\n",
    "    # 流出辺\n",
    "    TSP += lpSum([xvars[e] for e in edges if e[0] == u]) == 1, 'Flow Conservation (out) %s'%u\n",
    "    # 流入辺\n",
    "    TSP += lpSum([xvars[e] for e in edges if e[1] == u]) == 1, 'flow Conservation (in) %s'%u"
   ]
  },
  {
   "cell_type": "markdown",
   "metadata": {},
   "source": [
    "## 部分順回路除去制約\n",
    "### MTZ\n",
    "$w_i$ : 頂点 $i$ の訪問順（ただし、$w_0 = 0$）（頂点 0 は出発点）\n",
    "$$\n",
    " w_i + 1 - (n-1) (1-x_{i,j}) \\leq w_j \\qquad (i,j = 1, \\ldots, n-1, i \\neq j)\n",
    "$$\n",
    "\n",
    "### 訪問順の上下限\n",
    "$$\n",
    " w_i \\geq 2 - x_{0,i} + (n-3) x_{i,0}, \\; w_i \\leq n-2 + x_{i,0} - (n-3) x_{0,i}\n",
    "$$"
   ]
  },
  {
   "cell_type": "code",
   "execution_count": 29,
   "metadata": {},
   "outputs": [],
   "source": [
    "# 制約: 部分順回路除去　(MTZ)\n",
    "nodeset = set(nodes)\n",
    "for (u,v) in [(u,v) for u in nodes for v in nodes if u!= 0 and v!=0 and u!=v]:\n",
    "    TSP += wvars[u] + 1 - (ncity-1)*(1-xvars[(u,v)]) <= wvars[v]\n",
    "    TSP += 2 - xvars[(0,u)] + (ncity - 3)*xvars[(u,0)] <= wvars[u]\n",
    "    TSP += ncity - 2 + xvars[(u,0)] - (ncity - 3)*xvars[(0,u)] >= wvars[u]"
   ]
  },
  {
   "cell_type": "markdown",
   "metadata": {},
   "source": [
    "### 求解"
   ]
  },
  {
   "cell_type": "code",
   "execution_count": 30,
   "metadata": {},
   "outputs": [
    {
     "name": "stdout",
     "output_type": "stream",
     "text": [
      "Status: Optimal\n",
      "Optimal val: 2085.0\n",
      "n: 17 , number of constraints: 754\n",
      "Elapsed time:  2635.018825531006\n"
     ]
    }
   ],
   "source": [
    "# ソルバスレッド数設定\n",
    "# solver_lp = COIN_CMD(threads=10, msg=0, timeLimit=10)\n",
    "solver_lp = COIN_CMD(threads=8, msg=0)\n",
    "# 求解\n",
    "status = TSP.solve(solver_lp)\n",
    "\n",
    "print('Status:', LpStatus[status])\n",
    "print('Optimal val:', value(TSP.objective))\n",
    "# for e in edges:\n",
    "    # if xvars[e].value() > 0.5:\n",
    "        # print(e,xvars[e].value(), ' cost:', distances[e[0]][e[1]])\n",
    "print('n:', ncity, ', number of constraints:', len(TSP.constraints))\n",
    "print('Elapsed time: ', TSP.solutionTime*1000)"
   ]
  },
  {
   "cell_type": "markdown",
   "metadata": {},
   "source": [
    "### 求解（ループ）"
   ]
  },
  {
   "cell_type": "code",
   "execution_count": null,
   "metadata": {},
   "outputs": [],
   "source": [
    "import csv\n",
    "\n",
    "# 繰り返し回数\n",
    "lcount = 10\n",
    "\n",
    "# ソルバスレッド数設定\n",
    "solver_lp = COIN_CMD(threads=10, msg=0)\n",
    "\n",
    "with open('/Users/stomo/Desktop/temp_lp.csv', 'w') as f:\n",
    "    writer = csv.writer(f)\n",
    "    writer.writerow(['count', 'energy', 'time'])\n",
    "\n",
    "    for k in range (lcount):\n",
    "        status = TSP.solve(solver_lp)\n",
    "        if LpStatus[status] != 'Optimal':\n",
    "            raise RuntimeError(\"Any one of constraints is not satisfied.\")\n",
    "        writer.writerow([k, value(TSP.objective), TSP.solutionTime*1000])\n",
    "\n",
    "f.close()"
   ]
  }
 ],
 "metadata": {
  "kernelspec": {
   "display_name": "Python 3.9.13 ('pulp')",
   "language": "python",
   "name": "python3"
  },
  "language_info": {
   "codemirror_mode": {
    "name": "ipython",
    "version": 3
   },
   "file_extension": ".py",
   "mimetype": "text/x-python",
   "name": "python",
   "nbconvert_exporter": "python",
   "pygments_lexer": "ipython3",
   "version": "3.9.13"
  },
  "orig_nbformat": 4,
  "vscode": {
   "interpreter": {
    "hash": "dad3ad940ca24f6a3c4d59d4f2fa6744176a2ec9fd31981024b5cc7d3a795a2f"
   }
  }
 },
 "nbformat": 4,
 "nbformat_minor": 2
}
